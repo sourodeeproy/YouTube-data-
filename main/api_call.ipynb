{
 "cells": [
  {
   "cell_type": "code",
   "execution_count": null,
   "metadata": {},
   "outputs": [],
   "source": [
    "import json\n",
    "import pandas as pd\n",
    "\n",
    "with open('/content/drive/MyDrive/Youtube/Data 1/CA_category_id.json', 'r') as f:\n",
    "  data = json.load(f)\n",
    "\n",
    "video_id = []\n",
    "video_id_title= []\n",
    "for item in data[\"items\"]:\n",
    "  video_id.append(int(item['id']))\n",
    "  video_id_title.append(item[\"snippet\"][\"title\"])\n",
    "  #print(item['id'],item[\"snippet\"][\"title\"])\n",
    "\n",
    "df = pd.read_csv('/content/drive/MyDrive/Youtube/Data 1/CAvideos.csv')\n",
    "print(df)\n",
    "\n",
    "df['category_id'] = df['category_id'].replace(video_id,video_id_title)"
   ]
  }
 ],
 "metadata": {
  "language_info": {
   "name": "python"
  },
  "orig_nbformat": 4
 },
 "nbformat": 4,
 "nbformat_minor": 2
}
