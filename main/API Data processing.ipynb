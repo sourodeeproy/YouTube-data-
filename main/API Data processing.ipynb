{
 "cells": [
  {
   "cell_type": "code",
   "execution_count": null,
   "metadata": {},
   "outputs": [],
   "source": [
    "path_to_csv = 'C:\\\\Users\\\\souro\\\\Desktop\\\\VS Code\\\\Youtube Trending\\\\data\\\\Video_df.csv'\n",
    "\n",
    "try:\n",
    "  Video_df = pd.read_csv(path_to_csv, encoding='utf-8')\n",
    "except:\n",
    "  Video_df = pd.read_csv(path_to_csv, encoding='latin1')"
   ]
  },
  {
   "cell_type": "code",
   "execution_count": null,
   "metadata": {},
   "outputs": [],
   "source": [
    "path_to_csv = 'C:\\Users\\souro\\Desktop\\VS Code\\Youtube Trending\\YouTube_data\\processed_data\\Video_API.csv'\n",
    "\n",
    "try:\n",
    "  Video_API_df = pd.read_csv(path_to_csv, encoding='utf-8')\n",
    "except:\n",
    "  Video_API_df = pd.read_csv(path_to_csv, encoding='latin1')"
   ]
  },
  {
   "cell_type": "code",
   "execution_count": null,
   "metadata": {},
   "outputs": [],
   "source": [
    "path_to_csv = 'C:\\Users\\souro\\Desktop\\VS Code\\Youtube Trending\\YouTube_data\\processed_data\\Video_API.csv'\n",
    "\n",
    "try:\n",
    "  Channel_API_df = pd.read_csv(path_to_csv, encoding='utf-8')\n",
    "except:\n",
    "  Channel_API_df = pd.read_csv(path_to_csv, encoding='latin1')"
   ]
  }
 ],
 "metadata": {
  "kernelspec": {
   "display_name": "Python 3.9.13 64-bit (windows store)",
   "language": "python",
   "name": "python3"
  },
  "language_info": {
   "name": "python",
   "version": "3.9.13"
  },
  "orig_nbformat": 4,
  "vscode": {
   "interpreter": {
    "hash": "4d07c1c6db8c54a9450b01a884a14195705f8b00fbb1bf000db9a9e63914e9df"
   }
  }
 },
 "nbformat": 4,
 "nbformat_minor": 2
}
